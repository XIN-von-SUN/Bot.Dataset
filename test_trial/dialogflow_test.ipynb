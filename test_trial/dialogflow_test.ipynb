{
 "nbformat": 4,
 "nbformat_minor": 2,
 "metadata": {
  "language_info": {
   "name": "python",
   "codemirror_mode": {
    "name": "ipython",
    "version": 3
   },
   "version": "3.7.3-final"
  },
  "orig_nbformat": 2,
  "file_extension": ".py",
  "mimetype": "text/x-python",
  "name": "python",
  "npconvert_exporter": "python",
  "pygments_lexer": "ipython3",
  "version": 3,
  "kernelspec": {
   "name": "python37364bit8d437ac45ab1400083d7026870debc43",
   "display_name": "Python 3.7.3 64-bit"
  }
 },
 "cells": [
  {
   "cell_type": "code",
   "execution_count": 24,
   "metadata": {},
   "outputs": [],
   "source": [
    "import dialogflow_v2 as dialogflow\n",
    "import os\n",
    "\n",
    "credentials_file = 'newagent-fpxjnq-08c3138e5a20.json'  \n",
    "os.environ[\"GOOGLE_APPLICATION_CREDENTIALS\"] = credentials_file\n",
    "\n",
    "from google.oauth2 import service_account\n",
    "credentials = service_account.Credentials.from_service_account_file(credentials_file)"
   ]
  },
  {
   "cell_type": "code",
   "execution_count": 19,
   "metadata": {},
   "outputs": [],
   "source": [
    "def create_intent(project_id, display_name, training_phrases_parts, message_texts):\n",
    "    \"\"\"Create an intent of the given intent type.\"\"\"\n",
    "    #import dialogflow_v2 as dialogflow\n",
    "    intents_client = dialogflow.IntentsClient(credentials=credentials)\n",
    "\n",
    "    parent = intents_client.project_agent_path(project_id)\n",
    "    training_phrases = []\n",
    "    for training_phrases_part in training_phrases_parts:\n",
    "        part = dialogflow.types.Intent.TrainingPhrase.Part(\n",
    "            text=training_phrases_part)\n",
    "        # Here we create a new training phrase for each provided part.\n",
    "        training_phrase = dialogflow.types.Intent.TrainingPhrase(parts=[part])\n",
    "        training_phrases.append(training_phrase)\n",
    "\n",
    "    text = dialogflow.types.Intent.Message.Text(text=message_texts)\n",
    "    message = dialogflow.types.Intent.Message(text=text)\n",
    "\n",
    "    intent = dialogflow.types.Intent(\n",
    "        display_name=display_name,\n",
    "        training_phrases=training_phrases,\n",
    "        messages=[message])\n",
    "\n",
    "    response = intents_client.create_intent(parent, intent)\n",
    "\n",
    "    print('Intent created: {}'.format(response))"
   ]
  },
  {
   "cell_type": "code",
   "execution_count": 7,
   "metadata": {},
   "outputs": [],
   "source": [
    "project_id = 'newagent-fpxjnq'\n",
    "language_code = ''\n",
    "display_name = list(['delete', 'transfer', 'alarm'])\n",
    "training_phrases_parts = list([['delete the row please.', 'delete the column please.'],\n",
    "                            ['transfer 50 euro please', 'i want to make transfer', 'transfer money'],\n",
    "                            ['set alarm', 'set clock at 6', 'remind me at 9pm']])\n",
    "message_texts = None #'delete the value'\n",
    "\n",
    "#credentials_file = 'NewAgent-676cf2e40a3f.json'"
   ]
  },
  {
   "cell_type": "code",
   "execution_count": 52,
   "metadata": {},
   "outputs": [],
   "source": [
    "#create_intent(project_id, display_name, training_phrases_parts, message_texts)"
   ]
  },
  {
   "cell_type": "code",
   "execution_count": null,
   "metadata": {},
   "outputs": [],
   "source": []
  },
  {
   "cell_type": "markdown",
   "execution_count": null,
   "metadata": {},
   "outputs": [],
   "source": [
    "# create intents."
   ]
  },
  {
   "cell_type": "code",
   "execution_count": 55,
   "metadata": {},
   "outputs": [
    {
     "name": "stdout",
     "output_type": "stream",
     "text": "Intent created: name: \"projects/newagent-fpxjnq/agent/intents/73b71076-eb3e-4581-aefd-4ad42ccb3e92\"\ndisplay_name: \"delete\"\npriority: 500000\nmessages {\n  text {\n  }\n}\n\nIntent created: name: \"projects/newagent-fpxjnq/agent/intents/4a9e1c34-4ba9-46b5-813c-f8c8bd1dce16\"\ndisplay_name: \"transfer\"\npriority: 500000\nmessages {\n  text {\n  }\n}\n\nIntent created: name: \"projects/newagent-fpxjnq/agent/intents/3dba0cf7-a0e1-46e3-847b-83e401276464\"\ndisplay_name: \"alarm\"\npriority: 500000\nmessages {\n  text {\n  }\n}\n\n"
    }
   ],
   "source": [
    "intents_client = dialogflow.IntentsClient()\n",
    "parent = intents_client.project_agent_path(project_id)\n",
    "\n",
    "for i in range(len(display_name)):\n",
    "    training_phrases = []\n",
    "    for training_phrases_part in training_phrases_parts[i]:\n",
    "        part = dialogflow.types.Intent.TrainingPhrase.Part(\n",
    "            text=training_phrases_part)\n",
    "        # Here we create a new training phrase for each provided part.\n",
    "        training_phrase = dialogflow.types.Intent.TrainingPhrase(parts=[part])\n",
    "        training_phrases.append(training_phrase)\n",
    "\n",
    "    text = dialogflow.types.Intent.Message.Text(text=message_texts)\n",
    "    message = dialogflow.types.Intent.Message(text=text)\n",
    "\n",
    "    intent = dialogflow.types.Intent(\n",
    "        display_name=display_name[i],\n",
    "        training_phrases=training_phrases,\n",
    "        messages=[message])\n",
    "\n",
    "    response = intents_client.create_intent(parent, intent)\n",
    "\n",
    "    print('Intent created: {}'.format(response))"
   ]
  },
  {
   "cell_type": "code",
   "execution_count": null,
   "metadata": {},
   "outputs": [],
   "source": []
  },
  {
   "cell_type": "markdown",
   "execution_count": null,
   "metadata": {},
   "outputs": [],
   "source": [
    "# training the agent model."
   ]
  },
  {
   "cell_type": "code",
   "execution_count": 56,
   "metadata": {},
   "outputs": [],
   "source": [
    "client = dialogflow.AgentsClient()\n",
    "\n",
    "parent = client.project_path(project_id)\n",
    "\n",
    "response = client.train_agent(parent)\n"
   ]
  },
  {
   "cell_type": "code",
   "execution_count": null,
   "metadata": {},
   "outputs": [],
   "source": []
  },
  {
   "cell_type": "markdown",
   "execution_count": null,
   "metadata": {},
   "outputs": [],
   "source": [
    "# get the intent ID."
   ]
  },
  {
   "cell_type": "code",
   "execution_count": 57,
   "metadata": {},
   "outputs": [
    {
     "data": {
      "text/plain": "['3dba0cf7-a0e1-46e3-847b-83e401276464']"
     },
     "execution_count": 57,
     "metadata": {},
     "output_type": "execute_result"
    }
   ],
   "source": [
    "name = display_name[2]\n",
    "\n",
    "intents_client = dialogflow.IntentsClient()\n",
    "parent = intents_client.project_agent_path(project_id)\n",
    "\n",
    "intents = intents_client.list_intents(parent)\n",
    "\n",
    "intent_names = [\n",
    "    intent.name for intent in intents\n",
    "    if intent.display_name == name]\n",
    "\n",
    "intent_ids = [\n",
    "    intent_name.split('/')[-1] for intent_name\n",
    "    in intent_names]\n",
    "\n",
    "intent_ids"
   ]
  },
  {
   "cell_type": "code",
   "execution_count": null,
   "metadata": {},
   "outputs": [],
   "source": []
  },
  {
   "cell_type": "markdown",
   "execution_count": null,
   "metadata": {},
   "outputs": [],
   "source": [
    "# detect the intent."
   ]
  },
  {
   "cell_type": "code",
   "execution_count": 58,
   "metadata": {},
   "outputs": [
    {
     "name": "stdout",
     "output_type": "stream",
     "text": "Query text: set alarm\nDetected intent: alarm\nDetected intent confidence: 1.0\n"
    }
   ],
   "source": [
    "'''import os\n",
    "import dialogflow\n",
    "from google.api_core.exceptions import InvalidArgument\n",
    "\n",
    "os.environ[\"GOOGLE_APPLICATION_CREDENTIALS\"] = credentials_file\n",
    "'''\n",
    "DIALOGFLOW_PROJECT_ID = project_id\n",
    "DIALOGFLOW_LANGUAGE_CODE = 'en'\n",
    "SESSION_ID = '1'\n",
    "\n",
    "\n",
    "#text_to_be_analyzed = \"transfer money\"\n",
    "text_to_be_analyzed = \"set alarm\"\n",
    "\n",
    "\n",
    "session_client = dialogflow.SessionsClient()\n",
    "session = session_client.session_path(DIALOGFLOW_PROJECT_ID, SESSION_ID)\n",
    "\n",
    "text_input = dialogflow.types.TextInput(text=text_to_be_analyzed, language_code=DIALOGFLOW_LANGUAGE_CODE)\n",
    "query_input = dialogflow.types.QueryInput(text=text_input)\n",
    "\n",
    "try:\n",
    "    response = session_client.detect_intent(session=session, query_input=query_input)\n",
    "except InvalidArgument:\n",
    "    raise\n",
    "\n",
    "print(\"Query text:\", response.query_result.query_text)\n",
    "print(\"Detected intent:\", response.query_result.intent.display_name)\n",
    "print(\"Detected intent confidence:\", response.query_result.intent_detection_confidence)\n",
    "#print(\"Fulfillment text:\", response.query_result.fulfillment_text)\n"
   ]
  },
  {
   "cell_type": "code",
   "execution_count": null,
   "metadata": {},
   "outputs": [],
   "source": []
  },
  {
   "cell_type": "markdown",
   "execution_count": null,
   "metadata": {},
   "outputs": [],
   "source": [
    "# delete all intents."
   ]
  },
  {
   "cell_type": "code",
   "execution_count": 60,
   "metadata": {},
   "outputs": [
    {
     "data": {
      "text/plain": "['delete', 'transfer', 'alarm']"
     },
     "execution_count": 60,
     "metadata": {},
     "output_type": "execute_result"
    }
   ],
   "source": [
    "display_name"
   ]
  },
  {
   "cell_type": "code",
   "execution_count": 8,
   "metadata": {},
   "outputs": [
    {
     "name": "stdout",
     "output_type": "stream",
     "text": "transfer\nalarm\nalarm\ntransfer\ndelete\ndelete\ndelete\nalarm\ntransfer\n"
    }
   ],
   "source": [
    "client = dialogflow.IntentsClient()\n",
    "\n",
    "parent = client.project_agent_path(project_id)\n",
    "\n",
    "intents = client.list_intents(parent)\n",
    "for i in intents:\n",
    "    print(i.display_name)"
   ]
  },
  {
   "cell_type": "code",
   "execution_count": 9,
   "metadata": {},
   "outputs": [],
   "source": [
    "client = dialogflow.IntentsClient()\n",
    "\n",
    "parent = client.project_agent_path(project_id)\n",
    "\n",
    "intents = client.list_intents(parent)\n",
    "\n",
    "response = client.batch_delete_intents(parent, intents)"
   ]
  },
  {
   "cell_type": "code",
   "execution_count": 10,
   "metadata": {},
   "outputs": [],
   "source": [
    "intents = client.list_intents(parent)\n",
    "for i in intents:\n",
    "    print(i.display_name)"
   ]
  },
  {
   "cell_type": "code",
   "execution_count": null,
   "metadata": {},
   "outputs": [],
   "source": []
  },
  {
   "cell_type": "code",
   "execution_count": null,
   "metadata": {},
   "outputs": [],
   "source": []
  },
  {
   "cell_type": "markdown",
   "execution_count": null,
   "metadata": {},
   "outputs": [],
   "source": [
    "# Loop run"
   ]
  },
  {
   "cell_type": "code",
   "execution_count": 1,
   "metadata": {},
   "outputs": [],
   "source": [
    "import dialogflow_NLU\n",
    "\n",
    "import dialogflow_v2 as dialogflow\n",
    "import os\n",
    "\n",
    "credentials_file = 'newagent-fpxjnq-08c3138e5a20.json'  \n",
    "os.environ[\"GOOGLE_APPLICATION_CREDENTIALS\"] = credentials_file\n"
   ]
  },
  {
   "cell_type": "code",
   "execution_count": 2,
   "metadata": {},
   "outputs": [],
   "source": [
    "project_id = 'newagent-fpxjnq'\n",
    "language_code = ''\n",
    "display_name = list(['delete', 'transfer', 'alarm'])\n",
    "training_phrases_parts = list([['delete the row please.', 'delete the column please.'],\n",
    "                            ['transfer 50 euro please', 'i want to make transfer', 'transfer money'],\n",
    "                            ['set alarm', 'set clock at 6', 'remind me at 9pm']])"
   ]
  },
  {
   "cell_type": "code",
   "execution_count": 3,
   "metadata": {},
   "outputs": [],
   "source": [
    "dialogflow_NLU.create_intent(project_id, display_name, training_phrases_parts)"
   ]
  },
  {
   "cell_type": "code",
   "execution_count": 6,
   "metadata": {},
   "outputs": [],
   "source": [
    "dialogflow_NLU.train_agent(project_id)"
   ]
  },
  {
   "cell_type": "code",
   "execution_count": 7,
   "metadata": {},
   "outputs": [
    {
     "name": "stdout",
     "output_type": "stream",
     "text": "Query text: transfer money\nDetected intent: transfer\nDetected intent confidence: 1.0\nQuery text: set alarm\nDetected intent: alarm\nDetected intent confidence: 1.0\n"
    }
   ],
   "source": [
    "text_to_be_analyzed = ['transfer money', 'set alarm']\n",
    "\n",
    "for text in text_to_be_analyzed:\n",
    "    dialogflow_NLU.detect_intent(project_id, text)"
   ]
  },
  {
   "cell_type": "code",
   "execution_count": 25,
   "metadata": {},
   "outputs": [
    {
     "name": "stdout",
     "output_type": "stream",
     "text": "Intent before delete:  0\n--------------------\nIntent after delete:  0\n"
    }
   ],
   "source": [
    "dialogflow_NLU.delete_all_intents(project_id)"
   ]
  },
  {
   "cell_type": "code",
   "execution_count": null,
   "metadata": {},
   "outputs": [],
   "source": []
  },
  {
   "cell_type": "code",
   "execution_count": null,
   "metadata": {},
   "outputs": [],
   "source": []
  },
  {
   "cell_type": "code",
   "execution_count": 26,
   "metadata": {},
   "outputs": [],
   "source": [
    "import pandas as pd\n",
    "\n",
    "data_file = '/users/xinsun/Downloads/oos-eval-master/data/data_full.json'\n",
    "df = pd.read_json(data_file, typ='series')\n",
    "\n",
    "df_oos_train = pd.DataFrame(df['oos_train'], columns=['Phrase', 'Intent'])\n",
    "df_oos_test = pd.DataFrame(df['oos_test'], columns=['Phrase', 'Intent'])\n",
    "df_oos_val = pd.DataFrame(df['oos_val'], columns=['Phrase', 'Intent'])\n",
    "df_train = pd.DataFrame(df['train'], columns=['Phrase', 'Intent'])\n",
    "df_test = pd.DataFrame(df['test'], columns=['Phrase', 'Intent'])\n",
    "df_val = pd.DataFrame(df['val'], columns=['Phrase', 'Intent'])"
   ]
  },
  {
   "cell_type": "code",
   "execution_count": 27,
   "metadata": {},
   "outputs": [],
   "source": [
    "intents_set = list(df_train['Intent'].unique())"
   ]
  },
  {
   "cell_type": "code",
   "execution_count": 0,
   "metadata": {},
   "outputs": [],
   "source": [
    "df_train.head(2)"
   ]
  },
  {
   "cell_type": "code",
   "execution_count": 28,
   "metadata": {},
   "outputs": [],
   "source": [
    "phrases_set = [list(df_train[df_train.Intent==intent].Phrase.values) for intent in intents_set]"
   ]
  },
  {
   "cell_type": "code",
   "execution_count": 29,
   "metadata": {},
   "outputs": [
    {
     "data": {
      "text/plain": "'translate'"
     },
     "execution_count": 29,
     "metadata": {},
     "output_type": "execute_result"
    }
   ],
   "source": [
    "intents_set[0]"
   ]
  },
  {
   "cell_type": "code",
   "execution_count": 30,
   "metadata": {},
   "outputs": [
    {
     "data": {
      "text/plain": "['what expression would i use to say i love you if i were an italian',\n \"can you tell me how to say 'i do not speak much spanish', in spanish\"]"
     },
     "execution_count": 30,
     "metadata": {},
     "output_type": "execute_result"
    }
   ],
   "source": [
    "phrases_set[0][:2]"
   ]
  },
  {
   "cell_type": "code",
   "execution_count": 14,
   "metadata": {},
   "outputs": [],
   "source": [
    "project_id = 'newagent-fpxjnq'\n",
    "language_code = ''\n",
    "display_name = intents_set[:30]\n",
    "training_phrases_parts = phrases_set[:30]"
   ]
  },
  {
   "cell_type": "code",
   "execution_count": 15,
   "metadata": {},
   "outputs": [
    {
     "name": "stdout",
     "output_type": "stream",
     "text": "Intent before delete:  0\n--------------------\nIntent after delete:  0\n"
    }
   ],
   "source": [
    "dialogflow_NLU.delete_all_intents(project_id)"
   ]
  },
  {
   "cell_type": "code",
   "execution_count": 16,
   "metadata": {},
   "outputs": [],
   "source": [
    "dialogflow_NLU.create_intent(project_id, display_name, training_phrases_parts)\n",
    "\n",
    "dialogflow_NLU.train_agent(project_id)"
   ]
  },
  {
   "cell_type": "code",
   "execution_count": 22,
   "metadata": {},
   "outputs": [
    {
     "name": "stdout",
     "output_type": "stream",
     "text": "Query text: transfer money\nDetected intent: transfer\nDetected intent confidence: 0.8908178806304932\nQuery text: how can i say in english\nDetected intent: translate\nDetected intent confidence: 0.8272097110748291\nQuery text: set the alarm\nDetected intent: \nDetected intent confidence: 0.0\n"
    }
   ],
   "source": [
    "text_to_be_analyzed = ['transfer money', 'how can i say in english', 'set the alarm']\n",
    "\n",
    "for i in range(len(text_to_be_analyzed)):\n",
    "    dialogflow_NLU.detect_intent(project_id, text_to_be_analyzed[i])\n"
   ]
  },
  {
   "cell_type": "code",
   "execution_count": 23,
   "metadata": {},
   "outputs": [
    {
     "name": "stdout",
     "output_type": "stream",
     "text": "Intent before delete:  50\n--------------------\nIntent after delete:  0\n"
    }
   ],
   "source": [
    "dialogflow_NLU.delete_all_intents(project_id)"
   ]
  },
  {
   "cell_type": "code",
   "execution_count": null,
   "metadata": {},
   "outputs": [],
   "source": []
  },
  {
   "cell_type": "code",
   "execution_count": null,
   "metadata": {},
   "outputs": [],
   "source": []
  },
  {
   "cell_type": "code",
   "execution_count": null,
   "metadata": {},
   "outputs": [],
   "source": []
  }
 ]
}